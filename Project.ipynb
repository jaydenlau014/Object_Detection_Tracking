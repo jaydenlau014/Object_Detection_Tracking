{
 "cells": [
  {
   "cell_type": "code",
   "execution_count": null,
   "id": "34219c99",
   "metadata": {},
   "outputs": [],
   "source": [
    "import cv2\n",
    "from ultralytics import YOLO\n",
    "import cvzone\n",
    "import json"
   ]
  },
  {
   "cell_type": "code",
   "execution_count": null,
   "id": "93e88d6d",
   "metadata": {},
   "outputs": [],
   "source": [
    "# Define the class\n",
    "class_list = ['Staff']\n",
    "\n",
    "# Video for testing\n",
    "video = './videos/sample.mp4'\n",
    "\n",
    "cam = cv2.VideoCapture(video2)\n",
    "\n",
    "# Use YOLOv8l model that trained with custom dataset\n",
    "# Custom dataset is prepared manually and labelled with class with LabeLIMG\n",
    "model = YOLO('./best_4_yolo8l.pt')\n",
    "\n",
    "# Record current frame and x and y coordination when the class appear in the screen.\n",
    "current_frame = 0\n",
    "x_y_coor = {}\n",
    "while True:\n",
    "    ret, vid = cam.read()\n",
    "    results = model(vid, stream=True)\n",
    "    \n",
    "    for r in results:\n",
    "        bboxes = r.boxes\n",
    "\n",
    "        # Each box in a result\n",
    "        for bbox in bboxes:\n",
    "            x1, y1, x2, y2 = bbox.xyxy[0]\n",
    "            x1, y1, x2, y2 = int(x1), int(y1), int(x2), int(y2)\n",
    "            w, h = x2 - x1, y2 - y1\n",
    "\n",
    "            coor = ((x1+x2)//2, (y1+y2)//2)\n",
    "            # Confidence score\n",
    "            conf = round(bbox.conf[0].item(), 2)\n",
    "\n",
    "            # Class id\n",
    "            cls = int(bbox.cls[0].item())\n",
    "            class_name = class_list[cls]\n",
    "\n",
    "            if conf > 0.7:\n",
    "                cvzone.putTextRect(vid, '{}:{}'.format(class_name, conf), (max(0, x1), max(20, y1 - 20)), scale=1,\n",
    "                                   thickness=2, colorR=(255, 0, 0), offset=3)\n",
    "                cvzone.cornerRect(vid, (x1, y1, w, h), l=15, t=3)\n",
    "                cv2.putText(vid, str(coor), (coor[0], coor[1]), fontFace=cv2.FONT_HERSHEY_PLAIN,fontScale=1, color=(0,255,0), thickness=2)\n",
    "\n",
    "                frame_name = f'frame/frame{str(current_frame)}.jpg'\n",
    "\n",
    "                # Export the frame when the class appear in the screen.\n",
    "                cv2.imwrite(frame_name, vid)\n",
    "                x_y_coor[f'frame{current_frame}'] = coor\n",
    "                current_frame += 1\n",
    "    \n",
    "    # Export the current frame into a text file\n",
    "    with open('./frame/coor.txt','w') as f:\n",
    "        f.write(json.dumps(x_y_coor))\n",
    "        \n",
    "    # Show the video\n",
    "    cv2.imshow('video', vid)\n",
    "\n",
    "    key = cv2.waitKey(1)\n",
    "    if key == 27:\n",
    "        break\n",
    "\n",
    "\n",
    "cv2.destroyAllWindows()"
   ]
  }
 ],
 "metadata": {
  "kernelspec": {
   "display_name": "Python 3 (ipykernel)",
   "language": "python",
   "name": "python3"
  },
  "language_info": {
   "codemirror_mode": {
    "name": "ipython",
    "version": 3
   },
   "file_extension": ".py",
   "mimetype": "text/x-python",
   "name": "python",
   "nbconvert_exporter": "python",
   "pygments_lexer": "ipython3",
   "version": "3.9.12"
  }
 },
 "nbformat": 4,
 "nbformat_minor": 5
}
